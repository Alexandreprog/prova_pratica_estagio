{
 "cells": [
  {
   "cell_type": "markdown",
   "metadata": {},
   "source": [
    "# Autor : Alexandre Bezerra de Lima"
   ]
  },
  {
   "cell_type": "code",
   "execution_count": 184,
   "metadata": {},
   "outputs": [],
   "source": [
    "import json"
   ]
  },
  {
   "cell_type": "markdown",
   "metadata": {},
   "source": [
    "# Questão 1"
   ]
  },
  {
   "cell_type": "code",
   "execution_count": 185,
   "metadata": {},
   "outputs": [
    {
     "name": "stdout",
     "output_type": "stream",
     "text": [
      "91\n"
     ]
    }
   ],
   "source": [
    "indice = 13\n",
    "soma = 0\n",
    "k = 0\n",
    "\n",
    "while k < indice:\n",
    "    k = k + 1\n",
    "    soma = soma + k\n",
    "\n",
    "print(soma)"
   ]
  },
  {
   "cell_type": "markdown",
   "metadata": {},
   "source": [
    "# Questão 2"
   ]
  },
  {
   "cell_type": "code",
   "execution_count": 186,
   "metadata": {},
   "outputs": [],
   "source": [
    "def fib(num):\n",
    "    if num == 0:\n",
    "        return 0\n",
    "    if num == 1:\n",
    "        return 1\n",
    "        \n",
    "\n",
    "    return fib(num - 1) + fib(num-2)"
   ]
  },
  {
   "cell_type": "code",
   "execution_count": 187,
   "metadata": {},
   "outputs": [
    {
     "data": {
      "text/plain": [
       "'Pertence a Sequência'"
      ]
     },
     "execution_count": 187,
     "metadata": {},
     "output_type": "execute_result"
    }
   ],
   "source": [
    "def contem_num(num):\n",
    "    i = 0\n",
    "    list_seq = []\n",
    "\n",
    "    while i <= num:\n",
    "        num_2 = fib(i)\n",
    "        i = i+1\n",
    "        list_seq.append(str(num_2))\n",
    "\n",
    "\n",
    "    if str(num) in list_seq:\n",
    "        return \"Pertence a Sequência\"\n",
    "    else:\n",
    "        return \"Não pertence a Sequência\"\n",
    "\n",
    "contem_num(13)\n",
    "    \n",
    "\n",
    "\n"
   ]
  },
  {
   "cell_type": "markdown",
   "metadata": {},
   "source": [
    "# Questão 3"
   ]
  },
  {
   "cell_type": "markdown",
   "metadata": {},
   "source": [
    "##### OBS: O JSON foi gerado pelo chatgpt devido a falta de um arquivo fonte para o teste"
   ]
  },
  {
   "cell_type": "code",
   "execution_count": 188,
   "metadata": {},
   "outputs": [],
   "source": [
    "string_json = \"\"\"{\n",
    "    \"month\": \"August\",\n",
    "    \"year\": 2024,\n",
    "    \"revenue\": [\n",
    "        {\"date\": \"2024-08-01\", \"amount\": 1200.00},\n",
    "        {\"date\": \"2024-08-02\", \"amount\": 1800.00},\n",
    "        {\"date\": \"2024-08-03\", \"amount\": 0.00},\n",
    "        {\"date\": \"2024-08-04\", \"amount\": 0.00},\n",
    "        {\"date\": \"2024-08-05\", \"amount\": 2200.00},\n",
    "        {\"date\": \"2024-08-06\", \"amount\": 2600.00},\n",
    "        {\"date\": \"2024-08-07\", \"amount\": 2100.00},\n",
    "        {\"date\": \"2024-08-08\", \"amount\": 1900.00},\n",
    "        {\"date\": \"2024-08-09\", \"amount\": 3100.00},\n",
    "        {\"date\": \"2024-08-10\", \"amount\": 0.00},\n",
    "        {\"date\": \"2024-08-11\", \"amount\": 0.00},\n",
    "        {\"date\": \"2024-08-12\", \"amount\": 2900.00},\n",
    "        {\"date\": \"2024-08-13\", \"amount\": 2500.00},\n",
    "        {\"date\": \"2024-08-14\", \"amount\": 2400.00},\n",
    "        {\"date\": \"2024-08-15\", \"amount\": 0.00},\n",
    "        {\"date\": \"2024-08-16\", \"amount\": 3300.00},\n",
    "        {\"date\": \"2024-08-17\", \"amount\": 0.00},\n",
    "        {\"date\": \"2024-08-18\", \"amount\": 0.00},\n",
    "        {\"date\": \"2024-08-19\", \"amount\": 3500.00},\n",
    "        {\"date\": \"2024-08-20\", \"amount\": 2200.00},\n",
    "        {\"date\": \"2024-08-21\", \"amount\": 2700.00},\n",
    "        {\"date\": \"2024-08-22\", \"amount\": 2800.00},\n",
    "        {\"date\": \"2024-08-23\", \"amount\": 3400.00},\n",
    "        {\"date\": \"2024-08-24\", \"amount\": 0.00},\n",
    "        {\"date\": \"2024-08-25\", \"amount\": 0.00},\n",
    "        {\"date\": \"2024-08-26\", \"amount\": 3000.00},\n",
    "        {\"date\": \"2024-08-27\", \"amount\": 3200.00},\n",
    "        {\"date\": \"2024-08-28\", \"amount\": 3700.00},\n",
    "        {\"date\": \"2024-08-29\", \"amount\": 3800.00},\n",
    "        {\"date\": \"2024-08-30\", \"amount\": 3900.00},\n",
    "        {\"date\": \"2024-08-31\", \"amount\": 0.00}\n",
    "    ]\n",
    "}\n",
    "\"\"\""
   ]
  },
  {
   "cell_type": "code",
   "execution_count": 189,
   "metadata": {},
   "outputs": [],
   "source": [
    "string_json = string_json.replace(\"\\n\", \"\")"
   ]
  },
  {
   "cell_type": "code",
   "execution_count": 190,
   "metadata": {},
   "outputs": [
    {
     "data": {
      "text/plain": [
       "'{    \"month\": \"August\",    \"year\": 2024,    \"revenue\": [        {\"date\": \"2024-08-01\", \"amount\": 1200.00},        {\"date\": \"2024-08-02\", \"amount\": 1800.00},        {\"date\": \"2024-08-03\", \"amount\": 0.00},        {\"date\": \"2024-08-04\", \"amount\": 0.00},        {\"date\": \"2024-08-05\", \"amount\": 2200.00},        {\"date\": \"2024-08-06\", \"amount\": 2600.00},        {\"date\": \"2024-08-07\", \"amount\": 2100.00},        {\"date\": \"2024-08-08\", \"amount\": 1900.00},        {\"date\": \"2024-08-09\", \"amount\": 3100.00},        {\"date\": \"2024-08-10\", \"amount\": 0.00},        {\"date\": \"2024-08-11\", \"amount\": 0.00},        {\"date\": \"2024-08-12\", \"amount\": 2900.00},        {\"date\": \"2024-08-13\", \"amount\": 2500.00},        {\"date\": \"2024-08-14\", \"amount\": 2400.00},        {\"date\": \"2024-08-15\", \"amount\": 0.00},        {\"date\": \"2024-08-16\", \"amount\": 3300.00},        {\"date\": \"2024-08-17\", \"amount\": 0.00},        {\"date\": \"2024-08-18\", \"amount\": 0.00},        {\"date\": \"2024-08-19\", \"amount\": 3500.00},        {\"date\": \"2024-08-20\", \"amount\": 2200.00},        {\"date\": \"2024-08-21\", \"amount\": 2700.00},        {\"date\": \"2024-08-22\", \"amount\": 2800.00},        {\"date\": \"2024-08-23\", \"amount\": 3400.00},        {\"date\": \"2024-08-24\", \"amount\": 0.00},        {\"date\": \"2024-08-25\", \"amount\": 0.00},        {\"date\": \"2024-08-26\", \"amount\": 3000.00},        {\"date\": \"2024-08-27\", \"amount\": 3200.00},        {\"date\": \"2024-08-28\", \"amount\": 3700.00},        {\"date\": \"2024-08-29\", \"amount\": 3800.00},        {\"date\": \"2024-08-30\", \"amount\": 3900.00},        {\"date\": \"2024-08-31\", \"amount\": 0.00}    ]}'"
      ]
     },
     "execution_count": 190,
     "metadata": {},
     "output_type": "execute_result"
    }
   ],
   "source": [
    "string_json"
   ]
  },
  {
   "cell_type": "code",
   "execution_count": 191,
   "metadata": {},
   "outputs": [
    {
     "name": "stdout",
     "output_type": "stream",
     "text": [
      "{'month': 'August', 'year': 2024, 'revenue': [{'date': '2024-08-01', 'amount': 1200.0}, {'date': '2024-08-02', 'amount': 1800.0}, {'date': '2024-08-03', 'amount': 0.0}, {'date': '2024-08-04', 'amount': 0.0}, {'date': '2024-08-05', 'amount': 2200.0}, {'date': '2024-08-06', 'amount': 2600.0}, {'date': '2024-08-07', 'amount': 2100.0}, {'date': '2024-08-08', 'amount': 1900.0}, {'date': '2024-08-09', 'amount': 3100.0}, {'date': '2024-08-10', 'amount': 0.0}, {'date': '2024-08-11', 'amount': 0.0}, {'date': '2024-08-12', 'amount': 2900.0}, {'date': '2024-08-13', 'amount': 2500.0}, {'date': '2024-08-14', 'amount': 2400.0}, {'date': '2024-08-15', 'amount': 0.0}, {'date': '2024-08-16', 'amount': 3300.0}, {'date': '2024-08-17', 'amount': 0.0}, {'date': '2024-08-18', 'amount': 0.0}, {'date': '2024-08-19', 'amount': 3500.0}, {'date': '2024-08-20', 'amount': 2200.0}, {'date': '2024-08-21', 'amount': 2700.0}, {'date': '2024-08-22', 'amount': 2800.0}, {'date': '2024-08-23', 'amount': 3400.0}, {'date': '2024-08-24', 'amount': 0.0}, {'date': '2024-08-25', 'amount': 0.0}, {'date': '2024-08-26', 'amount': 3000.0}, {'date': '2024-08-27', 'amount': 3200.0}, {'date': '2024-08-28', 'amount': 3700.0}, {'date': '2024-08-29', 'amount': 3800.0}, {'date': '2024-08-30', 'amount': 3900.0}, {'date': '2024-08-31', 'amount': 0.0}]}\n"
     ]
    }
   ],
   "source": [
    "\n",
    "json_object = json.loads(string_json)\n",
    "\n",
    "print(json_object)"
   ]
  },
  {
   "cell_type": "code",
   "execution_count": 192,
   "metadata": {},
   "outputs": [],
   "source": [
    "\n",
    "faturamento = json_object['revenue']"
   ]
  },
  {
   "cell_type": "code",
   "execution_count": 193,
   "metadata": {},
   "outputs": [
    {
     "data": {
      "text/plain": [
       "[{'date': '2024-08-01', 'amount': 1200.0},\n",
       " {'date': '2024-08-02', 'amount': 1800.0},\n",
       " {'date': '2024-08-03', 'amount': 0.0},\n",
       " {'date': '2024-08-04', 'amount': 0.0},\n",
       " {'date': '2024-08-05', 'amount': 2200.0},\n",
       " {'date': '2024-08-06', 'amount': 2600.0},\n",
       " {'date': '2024-08-07', 'amount': 2100.0},\n",
       " {'date': '2024-08-08', 'amount': 1900.0},\n",
       " {'date': '2024-08-09', 'amount': 3100.0},\n",
       " {'date': '2024-08-10', 'amount': 0.0},\n",
       " {'date': '2024-08-11', 'amount': 0.0},\n",
       " {'date': '2024-08-12', 'amount': 2900.0},\n",
       " {'date': '2024-08-13', 'amount': 2500.0},\n",
       " {'date': '2024-08-14', 'amount': 2400.0},\n",
       " {'date': '2024-08-15', 'amount': 0.0},\n",
       " {'date': '2024-08-16', 'amount': 3300.0},\n",
       " {'date': '2024-08-17', 'amount': 0.0},\n",
       " {'date': '2024-08-18', 'amount': 0.0},\n",
       " {'date': '2024-08-19', 'amount': 3500.0},\n",
       " {'date': '2024-08-20', 'amount': 2200.0},\n",
       " {'date': '2024-08-21', 'amount': 2700.0},\n",
       " {'date': '2024-08-22', 'amount': 2800.0},\n",
       " {'date': '2024-08-23', 'amount': 3400.0},\n",
       " {'date': '2024-08-24', 'amount': 0.0},\n",
       " {'date': '2024-08-25', 'amount': 0.0},\n",
       " {'date': '2024-08-26', 'amount': 3000.0},\n",
       " {'date': '2024-08-27', 'amount': 3200.0},\n",
       " {'date': '2024-08-28', 'amount': 3700.0},\n",
       " {'date': '2024-08-29', 'amount': 3800.0},\n",
       " {'date': '2024-08-30', 'amount': 3900.0},\n",
       " {'date': '2024-08-31', 'amount': 0.0}]"
      ]
     },
     "execution_count": 193,
     "metadata": {},
     "output_type": "execute_result"
    }
   ],
   "source": [
    "faturamento"
   ]
  },
  {
   "cell_type": "code",
   "execution_count": 194,
   "metadata": {},
   "outputs": [
    {
     "name": "stdout",
     "output_type": "stream",
     "text": [
      "Menor faturamento: R$1200.00\n",
      "Maior faturamento: R$3900.00\n",
      "Número de dias com faturamento superior à média: 11 dias\n"
     ]
    }
   ],
   "source": [
    "\n",
    "faturamentos_validos = [dia['amount'] for dia in faturamento if dia['amount'] > 0]\n",
    "\n",
    "\n",
    "menor_faturamento = min(faturamentos_validos)\n",
    "maior_faturamento = max(faturamentos_validos)\n",
    "\n",
    "\n",
    "media_mensal = sum(faturamentos_validos) / len(faturamentos_validos)\n",
    "\n",
    "\n",
    "dias_acima_da_media = len([dia for dia in faturamentos_validos if dia > media_mensal])\n",
    "\n",
    "\n",
    "print(f\"Menor faturamento: R${menor_faturamento:.2f}\")\n",
    "print(f\"Maior faturamento: R${maior_faturamento:.2f}\")\n",
    "print(f\"Número de dias com faturamento superior à média: {dias_acima_da_media} dias\")"
   ]
  },
  {
   "cell_type": "markdown",
   "metadata": {},
   "source": [
    "# Questão 4"
   ]
  },
  {
   "cell_type": "code",
   "execution_count": 195,
   "metadata": {},
   "outputs": [],
   "source": [
    "faturamento_mensal = {'SP': 67836.43, 'RJ': 36678.66, 'MG': 29229.88, 'ES': 27165.48, 'Outros': 19849.53}"
   ]
  },
  {
   "cell_type": "code",
   "execution_count": 196,
   "metadata": {},
   "outputs": [
    {
     "data": {
      "text/plain": [
       "{'SP': 67836.43,\n",
       " 'RJ': 36678.66,\n",
       " 'MG': 29229.88,\n",
       " 'ES': 27165.48,\n",
       " 'Outros': 19849.53}"
      ]
     },
     "execution_count": 196,
     "metadata": {},
     "output_type": "execute_result"
    }
   ],
   "source": [
    "faturamento_mensal"
   ]
  },
  {
   "cell_type": "code",
   "execution_count": 197,
   "metadata": {},
   "outputs": [],
   "source": [
    "soma_fat_mensal = faturamento_mensal.values()"
   ]
  },
  {
   "cell_type": "code",
   "execution_count": 198,
   "metadata": {},
   "outputs": [],
   "source": [
    "soma_fat_mensal = list(soma_fat_mensal)"
   ]
  },
  {
   "cell_type": "code",
   "execution_count": 199,
   "metadata": {},
   "outputs": [
    {
     "data": {
      "text/plain": [
       "[67836.43, 36678.66, 29229.88, 27165.48, 19849.53]"
      ]
     },
     "execution_count": 199,
     "metadata": {},
     "output_type": "execute_result"
    }
   ],
   "source": [
    "soma_fat_mensal"
   ]
  },
  {
   "cell_type": "code",
   "execution_count": 200,
   "metadata": {},
   "outputs": [],
   "source": [
    "soma_fat_mensal = sum(soma_fat_mensal)"
   ]
  },
  {
   "cell_type": "code",
   "execution_count": 201,
   "metadata": {},
   "outputs": [
    {
     "data": {
      "text/plain": [
       "180759.98"
      ]
     },
     "execution_count": 201,
     "metadata": {},
     "output_type": "execute_result"
    }
   ],
   "source": [
    "soma_fat_mensal"
   ]
  },
  {
   "cell_type": "code",
   "execution_count": 202,
   "metadata": {},
   "outputs": [
    {
     "name": "stdout",
     "output_type": "stream",
     "text": [
      "67836.43\n",
      "36678.66\n",
      "29229.88\n",
      "27165.48\n",
      "19849.53\n"
     ]
    }
   ],
   "source": [
    "for i in faturamento_mensal.values():\n",
    "    print(i)"
   ]
  },
  {
   "cell_type": "code",
   "execution_count": 203,
   "metadata": {},
   "outputs": [],
   "source": [
    "def percentual(faturamento_mensal):\n",
    "    soma_fat_mensal = faturamento_mensal.values()\n",
    "    soma_fat_mensal = list(soma_fat_mensal)\n",
    "    soma_fat_mensal_2 = sum(soma_fat_mensal)\n",
    "    list_estados = list(faturamento_mensal.keys())\n",
    "\n",
    "    for i in faturamento_mensal.keys():\n",
    "        valor = (faturamento_mensal[i] / soma_fat_mensal_2) * 100\n",
    "        print(\"o percentual de representação do estado {0} é {1}%\".format(i,round(valor)))\n"
   ]
  },
  {
   "cell_type": "code",
   "execution_count": 204,
   "metadata": {},
   "outputs": [
    {
     "name": "stdout",
     "output_type": "stream",
     "text": [
      "o percentual de representação do estado SP é 38%\n",
      "o percentual de representação do estado RJ é 20%\n",
      "o percentual de representação do estado MG é 16%\n",
      "o percentual de representação do estado ES é 15%\n",
      "o percentual de representação do estado Outros é 11%\n"
     ]
    }
   ],
   "source": [
    "percentual(faturamento_mensal)"
   ]
  },
  {
   "cell_type": "markdown",
   "metadata": {},
   "source": [
    "# Questão 5"
   ]
  },
  {
   "cell_type": "code",
   "execution_count": 205,
   "metadata": {},
   "outputs": [],
   "source": [
    "\n",
    "def inverter(palavra):\n",
    "    palavra_inver = \"\"\n",
    "    for i in  range(len(palavra)):\n",
    "        palavra_inver += palavra[-(i+1)]\n",
    "\n",
    "    print(palavra_inver)"
   ]
  },
  {
   "cell_type": "code",
   "execution_count": 206,
   "metadata": {},
   "outputs": [
    {
     "name": "stdout",
     "output_type": "stream",
     "text": [
      "erdnaxelA\n"
     ]
    }
   ],
   "source": [
    "palavra = \"Alexandre\"\n",
    "inverter(palavra)"
   ]
  }
 ],
 "metadata": {
  "kernelspec": {
   "display_name": "base",
   "language": "python",
   "name": "python3"
  },
  "language_info": {
   "codemirror_mode": {
    "name": "ipython",
    "version": 3
   },
   "file_extension": ".py",
   "mimetype": "text/x-python",
   "name": "python",
   "nbconvert_exporter": "python",
   "pygments_lexer": "ipython3",
   "version": "3.10.9"
  }
 },
 "nbformat": 4,
 "nbformat_minor": 2
}
