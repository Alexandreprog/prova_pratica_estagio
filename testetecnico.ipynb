{
 "cells": [
  {
   "cell_type": "markdown",
   "metadata": {},
   "source": [
    "# Autor : Alexandre Bezerra de Lima"
   ]
  },
  {
   "cell_type": "code",
   "execution_count": 1,
   "metadata": {},
   "outputs": [],
   "source": [
    "import json"
   ]
  },
  {
   "cell_type": "markdown",
   "metadata": {},
   "source": [
    "# Questão 1"
   ]
  },
  {
   "cell_type": "code",
   "execution_count": 2,
   "metadata": {},
   "outputs": [
    {
     "name": "stdout",
     "output_type": "stream",
     "text": [
      "91\n"
     ]
    }
   ],
   "source": [
    "indice = 13\n",
    "soma = 0\n",
    "k = 0\n",
    "\n",
    "while k < indice:\n",
    "    k = k + 1\n",
    "    soma = soma + k\n",
    "\n",
    "print(soma)"
   ]
  },
  {
   "cell_type": "markdown",
   "metadata": {},
   "source": [
    "# Questão 2"
   ]
  },
  {
   "cell_type": "code",
   "execution_count": 3,
   "metadata": {},
   "outputs": [],
   "source": [
    "def fib(num):\n",
    "    if num == 0:\n",
    "        return 0\n",
    "    if num == 1:\n",
    "        return 1\n",
    "        \n",
    "\n",
    "    return fib(num - 1) + fib(num-2)"
   ]
  },
  {
   "cell_type": "code",
   "execution_count": 4,
   "metadata": {},
   "outputs": [
    {
     "data": {
      "text/plain": [
       "'Pertence a Sequência'"
      ]
     },
     "execution_count": 4,
     "metadata": {},
     "output_type": "execute_result"
    }
   ],
   "source": [
    "def contem_num(num):\n",
    "    i = 0\n",
    "    list_seq = []\n",
    "\n",
    "    while i <= num:\n",
    "        num_2 = fib(i)\n",
    "        i = i+1\n",
    "        list_seq.append(str(num_2))\n",
    "\n",
    "\n",
    "    if str(num) in list_seq:\n",
    "        return \"Pertence a Sequência\"\n",
    "    else:\n",
    "        return \"Não pertence a Sequência\"\n",
    "\n",
    "contem_num(13)\n",
    "    \n",
    "\n",
    "\n"
   ]
  },
  {
   "cell_type": "markdown",
   "metadata": {},
   "source": [
    "# Questão 3"
   ]
  },
  {
   "cell_type": "code",
   "execution_count": 5,
   "metadata": {},
   "outputs": [],
   "source": [
    "with open('dados.json', 'r') as arquivo:\n",
    "    faturamento = json.load(arquivo)"
   ]
  },
  {
   "cell_type": "code",
   "execution_count": 6,
   "metadata": {},
   "outputs": [
    {
     "data": {
      "text/plain": [
       "[{'dia': 1, 'valor': 22174.1664},\n",
       " {'dia': 2, 'valor': 24537.6698},\n",
       " {'dia': 3, 'valor': 26139.6134},\n",
       " {'dia': 4, 'valor': 0.0},\n",
       " {'dia': 5, 'valor': 0.0},\n",
       " {'dia': 6, 'valor': 26742.6612},\n",
       " {'dia': 7, 'valor': 0.0},\n",
       " {'dia': 8, 'valor': 42889.2258},\n",
       " {'dia': 9, 'valor': 46251.174},\n",
       " {'dia': 10, 'valor': 11191.4722},\n",
       " {'dia': 11, 'valor': 0.0},\n",
       " {'dia': 12, 'valor': 0.0},\n",
       " {'dia': 13, 'valor': 3847.4823},\n",
       " {'dia': 14, 'valor': 373.7838},\n",
       " {'dia': 15, 'valor': 2659.7563},\n",
       " {'dia': 16, 'valor': 48924.2448},\n",
       " {'dia': 17, 'valor': 18419.2614},\n",
       " {'dia': 18, 'valor': 0.0},\n",
       " {'dia': 19, 'valor': 0.0},\n",
       " {'dia': 20, 'valor': 35240.1826},\n",
       " {'dia': 21, 'valor': 43829.1667},\n",
       " {'dia': 22, 'valor': 18235.6852},\n",
       " {'dia': 23, 'valor': 4355.0662},\n",
       " {'dia': 24, 'valor': 13327.1025},\n",
       " {'dia': 25, 'valor': 0.0},\n",
       " {'dia': 26, 'valor': 0.0},\n",
       " {'dia': 27, 'valor': 25681.8318},\n",
       " {'dia': 28, 'valor': 1718.1221},\n",
       " {'dia': 29, 'valor': 13220.495},\n",
       " {'dia': 30, 'valor': 8414.61}]"
      ]
     },
     "execution_count": 6,
     "metadata": {},
     "output_type": "execute_result"
    }
   ],
   "source": [
    "faturamento"
   ]
  },
  {
   "cell_type": "code",
   "execution_count": 7,
   "metadata": {},
   "outputs": [
    {
     "name": "stdout",
     "output_type": "stream",
     "text": [
      "Menor faturamento: R$0.00\n",
      "Maior faturamento: R$48924.24\n",
      "Número de dias com faturamento superior à média: 12 dias\n"
     ]
    }
   ],
   "source": [
    "\n",
    "faturamentos_dias = [dia['valor'] for dia in faturamento]\n",
    "\n",
    "\n",
    "menor_faturamento = min(faturamentos_dias)\n",
    "maior_faturamento = max(faturamentos_dias)\n",
    "\n",
    "\n",
    "media_mensal = sum(faturamentos_dias) / len(faturamentos_dias)\n",
    "\n",
    "\n",
    "dias_acima_da_media = len([dia for dia in faturamentos_dias if dia > media_mensal])\n",
    "\n",
    "\n",
    "print(f\"Menor faturamento: R${menor_faturamento:.2f}\")\n",
    "print(f\"Maior faturamento: R${maior_faturamento:.2f}\")\n",
    "print(f\"Número de dias com faturamento superior à média: {dias_acima_da_media} dias\")"
   ]
  },
  {
   "cell_type": "markdown",
   "metadata": {},
   "source": [
    "# Questão 4"
   ]
  },
  {
   "cell_type": "code",
   "execution_count": 8,
   "metadata": {},
   "outputs": [],
   "source": [
    "faturamento_mensal = {'SP': 67836.43, 'RJ': 36678.66, 'MG': 29229.88, 'ES': 27165.48, 'Outros': 19849.53}"
   ]
  },
  {
   "cell_type": "code",
   "execution_count": 9,
   "metadata": {},
   "outputs": [],
   "source": [
    "soma_fat_mensal = faturamento_mensal.values()"
   ]
  },
  {
   "cell_type": "code",
   "execution_count": 10,
   "metadata": {},
   "outputs": [],
   "source": [
    "soma_fat_mensal = list(soma_fat_mensal)"
   ]
  },
  {
   "cell_type": "code",
   "execution_count": 11,
   "metadata": {},
   "outputs": [],
   "source": [
    "soma_fat_mensal = sum(soma_fat_mensal)"
   ]
  },
  {
   "cell_type": "code",
   "execution_count": 12,
   "metadata": {},
   "outputs": [],
   "source": [
    "def percentual(faturamento_mensal):\n",
    "    soma_fat_mensal = faturamento_mensal.values()\n",
    "    soma_fat_mensal = list(soma_fat_mensal)\n",
    "    soma_fat_mensal_2 = sum(soma_fat_mensal)\n",
    "\n",
    "    for i in faturamento_mensal.keys():\n",
    "        valor = (faturamento_mensal[i] / soma_fat_mensal_2) * 100\n",
    "        print(\"o percentual de representação do estado {0} é {1}%\".format(i,round(valor)))\n"
   ]
  },
  {
   "cell_type": "code",
   "execution_count": 13,
   "metadata": {},
   "outputs": [
    {
     "name": "stdout",
     "output_type": "stream",
     "text": [
      "o percentual de representação do estado SP é 38%\n",
      "o percentual de representação do estado RJ é 20%\n",
      "o percentual de representação do estado MG é 16%\n",
      "o percentual de representação do estado ES é 15%\n",
      "o percentual de representação do estado Outros é 11%\n"
     ]
    }
   ],
   "source": [
    "percentual(faturamento_mensal)"
   ]
  },
  {
   "cell_type": "markdown",
   "metadata": {},
   "source": [
    "# Questão 5"
   ]
  },
  {
   "cell_type": "code",
   "execution_count": 14,
   "metadata": {},
   "outputs": [],
   "source": [
    "\n",
    "def inverter(palavra):\n",
    "    palavra_inver = \"\"\n",
    "    for i in  range(len(palavra)):\n",
    "        palavra_inver += palavra[-(i+1)]\n",
    "\n",
    "    print(palavra_inver)"
   ]
  },
  {
   "cell_type": "code",
   "execution_count": 15,
   "metadata": {},
   "outputs": [
    {
     "name": "stdout",
     "output_type": "stream",
     "text": [
      "erdnaxelA\n"
     ]
    }
   ],
   "source": [
    "palavra = \"Alexandre\"\n",
    "inverter(palavra)"
   ]
  }
 ],
 "metadata": {
  "kernelspec": {
   "display_name": "base",
   "language": "python",
   "name": "python3"
  },
  "language_info": {
   "codemirror_mode": {
    "name": "ipython",
    "version": 3
   },
   "file_extension": ".py",
   "mimetype": "text/x-python",
   "name": "python",
   "nbconvert_exporter": "python",
   "pygments_lexer": "ipython3",
   "version": "3.10.9"
  }
 },
 "nbformat": 4,
 "nbformat_minor": 2
}
